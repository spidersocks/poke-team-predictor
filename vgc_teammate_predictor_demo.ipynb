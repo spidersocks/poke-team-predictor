{
 "cells": [
  {
   "cell_type": "code",
   "execution_count": 1,
   "metadata": {
    "colab": {
     "base_uri": "https://localhost:8080/"
    },
    "executionInfo": {
     "elapsed": 60110,
     "status": "ok",
     "timestamp": 1750340131600,
     "user": {
      "displayName": "Sean Fontaine",
      "userId": "06949519222434906701"
     },
     "user_tz": -480
    },
    "id": "AgxRZ6p0codm",
    "outputId": "09c8fc0f-ef65-4607-9d6b-d4d076eaf3c9"
   },
   "outputs": [],
   "source": [
    "# === SETUP ===\n",
    "import os\n",
    "import pandas as pd\n",
    "from joblib import load\n",
    "from IPython.display import display, clear_output\n",
    "import ipywidgets as widgets\n",
    "import requests\n",
    "from PIL import Image\n",
    "import matplotlib.pyplot as plt\n",
    "from math import ceil"
   ]
  },
  {
   "cell_type": "markdown",
   "metadata": {},
   "source": [
    "## NOTE\n",
    "\n",
    "ipywidgets has a known bug and widgets do not display in a Jupyter Notebook envrionment.\n",
    "\n",
    "Linked [here](https://colab.research.google.com/drive/1VOhNRQxL37sbY_RtUvT60ia6Px6RAwit?usp=drive_link) is a working implementation in Google Colaboratory."
   ]
  },
  {
   "cell_type": "code",
   "execution_count": 3,
   "metadata": {
    "executionInfo": {
     "elapsed": 12117,
     "status": "ok",
     "timestamp": 1750340143715,
     "user": {
      "displayName": "Sean Fontaine",
      "userId": "06949519222434906701"
     },
     "user_tz": -480
    },
    "id": "BuOgJH0IcyiM"
   },
   "outputs": [],
   "source": [
    "# === LOAD MODEL BUNDLE ===\n",
    "\n",
    "model_path = \"models/vgc_regi_restrictedcore_model.joblib\"\n",
    "\n",
    "bundle = load(model_path)\n",
    "\n",
    "model = bundle[\"model\"]\n",
    "label_columns = bundle[\"label_columns\"]"
   ]
  },
  {
   "cell_type": "code",
   "execution_count": 4,
   "metadata": {
    "executionInfo": {
     "elapsed": 632,
     "status": "ok",
     "timestamp": 1750340144348,
     "user": {
      "displayName": "Sean Fontaine",
      "userId": "06949519222434906701"
     },
     "user_tz": -480
    },
    "id": "VYG-uYgDcz3w"
   },
   "outputs": [],
   "source": [
    "df_path = \"dataframes\"\n",
    "X_df = pd.read_csv(f\"{df_path}/X_df.csv\")"
   ]
  },
  {
   "cell_type": "code",
   "execution_count": 5,
   "metadata": {
    "colab": {
     "base_uri": "https://localhost:8080/",
     "height": 926,
     "referenced_widgets": [
      "9ee3cfd7d2404d088b8ab833c25e9c5c",
      "6218ab1df0014c14b52901e3560cb433",
      "0b665b3b270141a2bba5526f051fa161",
      "081067f45bd3433fb3db2dd19ffd03ae",
      "9ed72a15fc0140d6a4709194a9c81d5d",
      "7db42ef0f3c14587a84323423834f555",
      "33f24cc66367439fa8373e7dc9134df1",
      "96521512821b457f86bcd9688b639259",
      "d0c90f880d674008aa56e2215af40a27"
     ]
    },
    "executionInfo": {
     "elapsed": 62,
     "status": "ok",
     "timestamp": 1750340144417,
     "user": {
      "displayName": "Sean Fontaine",
      "userId": "06949519222434906701"
     },
     "user_tz": -480
    },
    "id": "S7_o7AhLtR3l",
    "outputId": "5753e8c7-cb68-4818-80d3-149798994c64"
   },
   "outputs": [
    {
     "data": {
      "application/vnd.jupyter.widget-view+json": {
       "model_id": "c3ec7d274a4d4b97971ef5a41a4bc510",
       "version_major": 2,
       "version_minor": 0
      },
      "text/plain": [
       "Dropdown(description='Core 1:', layout=Layout(width='300px'), options=('Calyrex', 'Calyrex-Ice', 'Calyrex-Shad…"
      ]
     },
     "metadata": {},
     "output_type": "display_data"
    },
    {
     "data": {
      "application/vnd.jupyter.widget-view+json": {
       "model_id": "2ec62827536c4e269a491c8aa7787dcc",
       "version_major": 2,
       "version_minor": 0
      },
      "text/plain": [
       "Dropdown(description='Core 2:', layout=Layout(width='300px'), options=('Calyrex', 'Calyrex-Ice', 'Calyrex-Shad…"
      ]
     },
     "metadata": {},
     "output_type": "display_data"
    },
    {
     "data": {
      "application/vnd.jupyter.widget-view+json": {
       "model_id": "c9004f065eac446aa647628660601e49",
       "version_major": 2,
       "version_minor": 0
      },
      "text/plain": [
       "Button(description='Predict Teammates', style=ButtonStyle())"
      ]
     },
     "metadata": {},
     "output_type": "display_data"
    }
   ],
   "source": [
    "# === TEAMMATE PREDICTION UI ===\n",
    "\n",
    "restricted_pool = sorted([col.replace(\"core_\", \"\") for col in X_df.columns])\n",
    "\n",
    "core1_dropdown = widgets.Dropdown(\n",
    "    options=restricted_pool, description='Core 1:', layout=widgets.Layout(width='300px')\n",
    ")\n",
    "core2_dropdown = widgets.Dropdown(\n",
    "    options=restricted_pool, description='Core 2:', layout=widgets.Layout(width='300px')\n",
    ")\n",
    "\n",
    "predict_button = widgets.Button(description='Predict Teammates')\n",
    "display(core1_dropdown, core2_dropdown, predict_button)"
   ]
  },
  {
   "cell_type": "code",
   "execution_count": 6,
   "metadata": {},
   "outputs": [
    {
     "data": {
      "text/plain": [
       "['Calyrex',\n",
       " 'Calyrex-Ice',\n",
       " 'Calyrex-Shadow',\n",
       " 'Cosmoem',\n",
       " 'Dialga',\n",
       " 'Dialga-Origin',\n",
       " 'Eternatus',\n",
       " 'Giratina',\n",
       " 'Giratina-Origin',\n",
       " 'Groudon',\n",
       " 'Ho-Oh',\n",
       " 'Koraidon',\n",
       " 'Kyogre',\n",
       " 'Kyurem',\n",
       " 'Kyurem-Black',\n",
       " 'Kyurem-White',\n",
       " 'Lugia',\n",
       " 'Lunala',\n",
       " 'Mewtwo',\n",
       " 'Miraidon',\n",
       " 'Necrozma',\n",
       " 'Necrozma-Dawn-Wings',\n",
       " 'Necrozma-Dusk-Mane',\n",
       " 'Palkia',\n",
       " 'Palkia-Origin',\n",
       " 'Rayquaza',\n",
       " 'Reshiram',\n",
       " 'Solgaleo',\n",
       " 'Terapagos',\n",
       " 'Zacian',\n",
       " 'Zacian-Crowned',\n",
       " 'Zamazenta',\n",
       " 'Zamazenta-Crowned',\n",
       " 'Zekrom']"
      ]
     },
     "execution_count": 6,
     "metadata": {},
     "output_type": "execute_result"
    }
   ],
   "source": [
    "restricted_pool"
   ]
  },
  {
   "cell_type": "code",
   "execution_count": 7,
   "metadata": {
    "executionInfo": {
     "elapsed": 31,
     "status": "ok",
     "timestamp": 1750340144449,
     "user": {
      "displayName": "Sean Fontaine",
      "userId": "06949519222434906701"
     },
     "user_tz": -480
    },
    "id": "X9I708ETtUAi"
   },
   "outputs": [],
   "source": [
    "# === PREDICT TEAMMATES ===\n",
    "\n",
    "def predict_teammates(core, model, X_df, label_columns, top_n=20):\n",
    "    core = list(core)\n",
    "    input_row = pd.DataFrame(columns=X_df.columns)\n",
    "    input_row.loc[0] = 0\n",
    "\n",
    "    for mon in core:\n",
    "        col = f\"core_{mon}\"\n",
    "        if col in input_row.columns:\n",
    "            input_row.at[0, col] = 1\n",
    "        else:\n",
    "            print(f\"Warning: {col} not in input features\")\n",
    "\n",
    "    probs = []\n",
    "    for i, prob_arr in enumerate(model.predict_proba(input_row)):\n",
    "        if prob_arr.shape[1] == 2:\n",
    "            probs.append(prob_arr[0, 1])\n",
    "        else:\n",
    "            label_idx = model.estimators_[i].classes_[0]\n",
    "            probs.append(1.0 if label_idx == 1 else 0.0)\n",
    "\n",
    "    teammate_names = [col.replace(\"teammate_\", \"\") for col in label_columns]\n",
    "    results = sorted(zip(teammate_names, probs), key=lambda x: x[1], reverse=True)[:top_n]\n",
    "    return pd.DataFrame(results, columns=[\"Teammate\", \"Predicted Probability\"])"
   ]
  },
  {
   "cell_type": "code",
   "execution_count": 8,
   "metadata": {
    "executionInfo": {
     "elapsed": 30,
     "status": "ok",
     "timestamp": 1750340144449,
     "user": {
      "displayName": "Sean Fontaine",
      "userId": "06949519222434906701"
     },
     "user_tz": -480
    },
    "id": "STGVv62pEYxu"
   },
   "outputs": [],
   "source": [
    "# === Retrieve Sprite URL from PokeAPI ===\n",
    "fallbacks = {\n",
    "        \"ogerpon-cornerstone\": \"ogerpon-cornerstone-mask\",\n",
    "        \"ogerpon-hearthflame\": \"ogerpon-hearthflame-mask\",\n",
    "        \"ogerpon-wellspring\": \"ogerpon-wellspring-mask\",\n",
    "        \"ogerpon\": \"ogerpon-teal-mask\",\n",
    "        \"landorus\": \"landorus-incarnate\",\n",
    "        \"tornadus\": \"tornadus-incarnate\",\n",
    "        \"thundurus\": \"thundurus-incarnate\",\n",
    "        \"enamorus\": \"enamorus-incarnate\",\n",
    "        \"urshifu\": \"urshifu-single-strike\",\n",
    "        \"indeedee-f\": \"indeedee-female\",\n",
    "        \"giratina\" : \"giratina-altered\"\n",
    "    }\n",
    "\n",
    "def get_sprite_url(pokemon_name):\n",
    "    base_name = pokemon_name.lower().replace(\" \", \"-\").replace(\"’\", \"\").replace(\"'\", \"\")\n",
    "    name_attempts = []\n",
    "    if base_name in fallbacks:\n",
    "        name_attempts.append(fallbacks[base_name])\n",
    "    name_attempts.append(base_name)\n",
    "    name_attempts.append(base_name.split(\"-\")[0])\n",
    "\n",
    "    for attempt in name_attempts:\n",
    "        try:\n",
    "            res = requests.get(f\"https://pokeapi.co/api/v2/pokemon/{attempt}\")\n",
    "            res.raise_for_status()\n",
    "            data = res.json()\n",
    "\n",
    "            sprite_url = (\n",
    "                data[\"sprites\"][\"front_default\"]\n",
    "                or data[\"sprites\"][\"other\"][\"official-artwork\"][\"front_default\"]\n",
    "            )\n",
    "\n",
    "            if sprite_url:\n",
    "                return sprite_url\n",
    "        except Exception:\n",
    "            continue\n",
    "\n",
    "    # Return transparent fallback instead of None\n",
    "    return \"https://raw.githubusercontent.com/PokeAPI/sprites/master/sprites/pokemon/0.png\""
   ]
  },
  {
   "cell_type": "code",
   "execution_count": 9,
   "metadata": {
    "executionInfo": {
     "elapsed": 4,
     "status": "ok",
     "timestamp": 1750340144450,
     "user": {
      "displayName": "Sean Fontaine",
      "userId": "06949519222434906701"
     },
     "user_tz": -480
    },
    "id": "vZONM9s2tYIH"
   },
   "outputs": [],
   "source": [
    "def on_predict_clicked(b):\n",
    "    print(\"Button clicked\")\n",
    "    clear_output(wait=True)\n",
    "    display(core1_dropdown, core2_dropdown, predict_button)\n",
    "\n",
    "    core_pair = (core1_dropdown.value, core2_dropdown.value)\n",
    "    print(f\"\\nPredicting teammates for: {core_pair[0]} + {core_pair[1]}\")\n",
    "\n",
    "    results = predict_teammates(core_pair, model, X_df, label_columns)\n",
    "\n",
    "    print(\"\\nRestricted Core:\")\n",
    "    display_restricted_pair(core_pair)\n",
    "\n",
    "    print(\"\\nPredicted Teammates:\")\n",
    "    show_sprite_grid(results)\n",
    "\n",
    "# Reset handler\n",
    "predict_button._click_handlers.callbacks.clear()\n",
    "predict_button.on_click(on_predict_clicked)\n"
   ]
  },
  {
   "cell_type": "code",
   "execution_count": 10,
   "metadata": {
    "executionInfo": {
     "elapsed": 3,
     "status": "ok",
     "timestamp": 1750340144450,
     "user": {
      "displayName": "Sean Fontaine",
      "userId": "06949519222434906701"
     },
     "user_tz": -480
    },
    "id": "uq5ymf6NHsYf"
   },
   "outputs": [],
   "source": [
    "from IPython.display import HTML\n",
    "\n",
    "def display_restricted_pair(core_pair):\n",
    "    urls = [get_sprite_url(name) for name in core_pair]\n",
    "    html = \"<div style='display:flex; gap:20px; align-items:center; margin-bottom:10px;'>\"\n",
    "    for url in urls:\n",
    "        if url:\n",
    "            html += f\"<img src='{url}' style='height:128px;'>\"\n",
    "    html += \"</div>\"\n",
    "    display(HTML(html))\n"
   ]
  },
  {
   "cell_type": "code",
   "execution_count": 11,
   "metadata": {
    "executionInfo": {
     "elapsed": 3,
     "status": "ok",
     "timestamp": 1750340144451,
     "user": {
      "displayName": "Sean Fontaine",
      "userId": "06949519222434906701"
     },
     "user_tz": -480
    },
    "id": "hpyjnNLiIJIr"
   },
   "outputs": [],
   "source": [
    "# === FINAL OUTPUT DISPLAY ===\n",
    "\n",
    "def show_sprite_grid(results, per_row=None):\n",
    "    if per_row is None:\n",
    "        per_row = ceil(len(results) ** 0.5)  # Make the grid square-ish\n",
    "\n",
    "    html = \"<table style='margin-top:10px'><tr>\"\n",
    "    count = 0\n",
    "    filtered = [(name, prob) for name, prob in results.values if prob > 0]\n",
    "    for name, prob in filtered:\n",
    "        sprite_url = get_sprite_url(name)\n",
    "        if not sprite_url:\n",
    "            continue  # skip missing\n",
    "\n",
    "        html += f\"\"\"\n",
    "        <td style=\"text-align:center; padding:10px;\">\n",
    "            <img src=\"{sprite_url}\" style=\"height:96px;\"><br>\n",
    "            <span>{name} - {prob:.1%}</span>\n",
    "        </td>\n",
    "        \"\"\"\n",
    "        count += 1\n",
    "        if count % per_row == 0:\n",
    "            html += \"</tr><tr>\"\n",
    "\n",
    "    html += \"</tr></table>\"\n",
    "    display(HTML(html))"
   ]
  },
  {
   "cell_type": "markdown",
   "metadata": {
    "id": "1-bdwHz7P8g5"
   },
   "source": [
    "> **Generative AI Disclaimer:**\n",
    "\n",
    "Generative AI (Gemini, ChatGPT) was used to build the scaffolding for helper functions, for example the HTML formatting."
   ]
  }
 ],
 "metadata": {
  "colab": {
   "provenance": []
  },
  "kernelspec": {
   "display_name": "Python 3 (ipykernel)",
   "language": "python",
   "name": "python3"
  },
  "language_info": {
   "codemirror_mode": {
    "name": "ipython",
    "version": 3
   },
   "file_extension": ".py",
   "mimetype": "text/x-python",
   "name": "python",
   "nbconvert_exporter": "python",
   "pygments_lexer": "ipython3",
   "version": "3.12.7"
  },
  "widgets": {
   "application/vnd.jupyter.widget-state+json": {
    "081067f45bd3433fb3db2dd19ffd03ae": {
     "model_module": "@jupyter-widgets/controls",
     "model_module_version": "1.5.0",
     "model_name": "DropdownModel",
     "state": {
      "_dom_classes": [],
      "_model_module": "@jupyter-widgets/controls",
      "_model_module_version": "1.5.0",
      "_model_name": "DropdownModel",
      "_options_labels": [
       "Calyrex",
       "Calyrex-Ice",
       "Calyrex-Shadow",
       "Cosmoem",
       "Dialga",
       "Dialga-Origin",
       "Eternatus",
       "Giratina",
       "Giratina-Origin",
       "Groudon",
       "Ho-Oh",
       "Koraidon",
       "Kyogre",
       "Kyurem",
       "Kyurem-Black",
       "Kyurem-White",
       "Lugia",
       "Lunala",
       "Mewtwo",
       "Miraidon",
       "Necrozma",
       "Necrozma-Dawn-Wings",
       "Necrozma-Dusk-Mane",
       "Palkia",
       "Palkia-Origin",
       "Rayquaza",
       "Reshiram",
       "Solgaleo",
       "Terapagos",
       "Zacian",
       "Zacian-Crowned",
       "Zamazenta",
       "Zamazenta-Crowned",
       "Zekrom"
      ],
      "_view_count": null,
      "_view_module": "@jupyter-widgets/controls",
      "_view_module_version": "1.5.0",
      "_view_name": "DropdownView",
      "description": "Core 2:",
      "description_tooltip": null,
      "disabled": false,
      "index": 2,
      "layout": "IPY_MODEL_9ed72a15fc0140d6a4709194a9c81d5d",
      "style": "IPY_MODEL_7db42ef0f3c14587a84323423834f555"
     }
    },
    "0b665b3b270141a2bba5526f051fa161": {
     "model_module": "@jupyter-widgets/controls",
     "model_module_version": "1.5.0",
     "model_name": "DescriptionStyleModel",
     "state": {
      "_model_module": "@jupyter-widgets/controls",
      "_model_module_version": "1.5.0",
      "_model_name": "DescriptionStyleModel",
      "_view_count": null,
      "_view_module": "@jupyter-widgets/base",
      "_view_module_version": "1.2.0",
      "_view_name": "StyleView",
      "description_width": ""
     }
    },
    "33f24cc66367439fa8373e7dc9134df1": {
     "model_module": "@jupyter-widgets/controls",
     "model_module_version": "1.5.0",
     "model_name": "ButtonModel",
     "state": {
      "_dom_classes": [],
      "_model_module": "@jupyter-widgets/controls",
      "_model_module_version": "1.5.0",
      "_model_name": "ButtonModel",
      "_view_count": null,
      "_view_module": "@jupyter-widgets/controls",
      "_view_module_version": "1.5.0",
      "_view_name": "ButtonView",
      "button_style": "",
      "description": "Predict Teammates",
      "disabled": false,
      "icon": "",
      "layout": "IPY_MODEL_96521512821b457f86bcd9688b639259",
      "style": "IPY_MODEL_d0c90f880d674008aa56e2215af40a27",
      "tooltip": ""
     }
    },
    "6218ab1df0014c14b52901e3560cb433": {
     "model_module": "@jupyter-widgets/base",
     "model_module_version": "1.2.0",
     "model_name": "LayoutModel",
     "state": {
      "_model_module": "@jupyter-widgets/base",
      "_model_module_version": "1.2.0",
      "_model_name": "LayoutModel",
      "_view_count": null,
      "_view_module": "@jupyter-widgets/base",
      "_view_module_version": "1.2.0",
      "_view_name": "LayoutView",
      "align_content": null,
      "align_items": null,
      "align_self": null,
      "border": null,
      "bottom": null,
      "display": null,
      "flex": null,
      "flex_flow": null,
      "grid_area": null,
      "grid_auto_columns": null,
      "grid_auto_flow": null,
      "grid_auto_rows": null,
      "grid_column": null,
      "grid_gap": null,
      "grid_row": null,
      "grid_template_areas": null,
      "grid_template_columns": null,
      "grid_template_rows": null,
      "height": null,
      "justify_content": null,
      "justify_items": null,
      "left": null,
      "margin": null,
      "max_height": null,
      "max_width": null,
      "min_height": null,
      "min_width": null,
      "object_fit": null,
      "object_position": null,
      "order": null,
      "overflow": null,
      "overflow_x": null,
      "overflow_y": null,
      "padding": null,
      "right": null,
      "top": null,
      "visibility": null,
      "width": "300px"
     }
    },
    "7db42ef0f3c14587a84323423834f555": {
     "model_module": "@jupyter-widgets/controls",
     "model_module_version": "1.5.0",
     "model_name": "DescriptionStyleModel",
     "state": {
      "_model_module": "@jupyter-widgets/controls",
      "_model_module_version": "1.5.0",
      "_model_name": "DescriptionStyleModel",
      "_view_count": null,
      "_view_module": "@jupyter-widgets/base",
      "_view_module_version": "1.2.0",
      "_view_name": "StyleView",
      "description_width": ""
     }
    },
    "96521512821b457f86bcd9688b639259": {
     "model_module": "@jupyter-widgets/base",
     "model_module_version": "1.2.0",
     "model_name": "LayoutModel",
     "state": {
      "_model_module": "@jupyter-widgets/base",
      "_model_module_version": "1.2.0",
      "_model_name": "LayoutModel",
      "_view_count": null,
      "_view_module": "@jupyter-widgets/base",
      "_view_module_version": "1.2.0",
      "_view_name": "LayoutView",
      "align_content": null,
      "align_items": null,
      "align_self": null,
      "border": null,
      "bottom": null,
      "display": null,
      "flex": null,
      "flex_flow": null,
      "grid_area": null,
      "grid_auto_columns": null,
      "grid_auto_flow": null,
      "grid_auto_rows": null,
      "grid_column": null,
      "grid_gap": null,
      "grid_row": null,
      "grid_template_areas": null,
      "grid_template_columns": null,
      "grid_template_rows": null,
      "height": null,
      "justify_content": null,
      "justify_items": null,
      "left": null,
      "margin": null,
      "max_height": null,
      "max_width": null,
      "min_height": null,
      "min_width": null,
      "object_fit": null,
      "object_position": null,
      "order": null,
      "overflow": null,
      "overflow_x": null,
      "overflow_y": null,
      "padding": null,
      "right": null,
      "top": null,
      "visibility": null,
      "width": null
     }
    },
    "9ed72a15fc0140d6a4709194a9c81d5d": {
     "model_module": "@jupyter-widgets/base",
     "model_module_version": "1.2.0",
     "model_name": "LayoutModel",
     "state": {
      "_model_module": "@jupyter-widgets/base",
      "_model_module_version": "1.2.0",
      "_model_name": "LayoutModel",
      "_view_count": null,
      "_view_module": "@jupyter-widgets/base",
      "_view_module_version": "1.2.0",
      "_view_name": "LayoutView",
      "align_content": null,
      "align_items": null,
      "align_self": null,
      "border": null,
      "bottom": null,
      "display": null,
      "flex": null,
      "flex_flow": null,
      "grid_area": null,
      "grid_auto_columns": null,
      "grid_auto_flow": null,
      "grid_auto_rows": null,
      "grid_column": null,
      "grid_gap": null,
      "grid_row": null,
      "grid_template_areas": null,
      "grid_template_columns": null,
      "grid_template_rows": null,
      "height": null,
      "justify_content": null,
      "justify_items": null,
      "left": null,
      "margin": null,
      "max_height": null,
      "max_width": null,
      "min_height": null,
      "min_width": null,
      "object_fit": null,
      "object_position": null,
      "order": null,
      "overflow": null,
      "overflow_x": null,
      "overflow_y": null,
      "padding": null,
      "right": null,
      "top": null,
      "visibility": null,
      "width": "300px"
     }
    },
    "9ee3cfd7d2404d088b8ab833c25e9c5c": {
     "model_module": "@jupyter-widgets/controls",
     "model_module_version": "1.5.0",
     "model_name": "DropdownModel",
     "state": {
      "_dom_classes": [],
      "_model_module": "@jupyter-widgets/controls",
      "_model_module_version": "1.5.0",
      "_model_name": "DropdownModel",
      "_options_labels": [
       "Calyrex",
       "Calyrex-Ice",
       "Calyrex-Shadow",
       "Cosmoem",
       "Dialga",
       "Dialga-Origin",
       "Eternatus",
       "Giratina",
       "Giratina-Origin",
       "Groudon",
       "Ho-Oh",
       "Koraidon",
       "Kyogre",
       "Kyurem",
       "Kyurem-Black",
       "Kyurem-White",
       "Lugia",
       "Lunala",
       "Mewtwo",
       "Miraidon",
       "Necrozma",
       "Necrozma-Dawn-Wings",
       "Necrozma-Dusk-Mane",
       "Palkia",
       "Palkia-Origin",
       "Rayquaza",
       "Reshiram",
       "Solgaleo",
       "Terapagos",
       "Zacian",
       "Zacian-Crowned",
       "Zamazenta",
       "Zamazenta-Crowned",
       "Zekrom"
      ],
      "_view_count": null,
      "_view_module": "@jupyter-widgets/controls",
      "_view_module_version": "1.5.0",
      "_view_name": "DropdownView",
      "description": "Core 1:",
      "description_tooltip": null,
      "disabled": false,
      "index": 30,
      "layout": "IPY_MODEL_6218ab1df0014c14b52901e3560cb433",
      "style": "IPY_MODEL_0b665b3b270141a2bba5526f051fa161"
     }
    },
    "d0c90f880d674008aa56e2215af40a27": {
     "model_module": "@jupyter-widgets/controls",
     "model_module_version": "1.5.0",
     "model_name": "ButtonStyleModel",
     "state": {
      "_model_module": "@jupyter-widgets/controls",
      "_model_module_version": "1.5.0",
      "_model_name": "ButtonStyleModel",
      "_view_count": null,
      "_view_module": "@jupyter-widgets/base",
      "_view_module_version": "1.2.0",
      "_view_name": "StyleView",
      "button_color": null,
      "font_weight": ""
     }
    }
   }
  }
 },
 "nbformat": 4,
 "nbformat_minor": 4
}
